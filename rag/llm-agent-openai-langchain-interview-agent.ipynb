{
 "cells": [
  {
   "cell_type": "markdown",
   "metadata": {},
   "source": [
    "# LangChain AI Interview Agent\n",
    "This notebook provides an overview of an AI interview agent designed for generating interview questions and gathering candidate information based on job requirements, company profile, and candidate resume."
   ]
  },
  {
   "cell_type": "markdown",
   "metadata": {},
   "source": [
    "## Setting Up\n",
    "Uncomment to install the package"
   ]
  },
  {
   "cell_type": "code",
   "execution_count": 164,
   "metadata": {},
   "outputs": [],
   "source": [
    "# pip install -U \"langgraph>=0.2,<0.3\" \"langchain>=0.3,<0.4\" \"langchain-openai>=0.2,<0.3\""
   ]
  },
  {
   "cell_type": "markdown",
   "metadata": {},
   "source": [
    "Uncomment if API key is not added yet"
   ]
  },
  {
   "cell_type": "code",
   "execution_count": 165,
   "metadata": {},
   "outputs": [],
   "source": [
    "# import getpass\n",
    "# import os\n",
    "\n",
    "# os.environ[\"OPENAI_API_KEY\"] = getpass.getpass()"
   ]
  },
  {
   "cell_type": "markdown",
   "metadata": {},
   "source": [
    "## Step 1: Generate Interview Questions"
   ]
  },
  {
   "cell_type": "code",
   "execution_count": 192,
   "metadata": {},
   "outputs": [],
   "source": [
    "JOB_POST = \"\"\"\n",
    "Position Title: Software Engineer (Backend)\n",
    "\n",
    "Description:\n",
    "We are looking for a skilled Software Engineer to join our backend development team. The candidate will work on designing, building, and maintaining scalable APIs and microservices to support our growing business. The role involves collaborating closely with cross-functional teams including front-end developers, product managers, and DevOps engineers.\n",
    "\n",
    "Key Responsibilities:\n",
    "- Design, develop, and maintain APIs and backend services.\n",
    "- Collaborate with cross-functional teams to deliver new features.\n",
    "- Write clean, efficient, and testable code.\n",
    "\n",
    "Minimum Requirements:\n",
    "- 3+ years of experience with backend development.\n",
    "- Proficiency in Python, Java, or Go.\n",
    "- Experience with REST APIs and microservices architecture.\n",
    "\"\"\"\n",
    "\n",
    "COMPANY_PROFILE = \"\"\"\n",
    "Company Name: InnovateTech Solutions\n",
    "\n",
    "Mission: To drive innovation by providing advanced tech solutions that empower businesses to scale and grow.\n",
    "\n",
    "Vision: To be the leading technology solutions provider, helping businesses navigate the digital transformation with cutting-edge software and exceptional customer service.\n",
    "\n",
    "Core Values:\n",
    "1. Innovation: Constantly seeking new ways to solve problems and improve technology.\n",
    "2. Collaboration: Working together as a team to achieve shared goals.\n",
    "3. Integrity: Doing the right thing for our customers and employees.\n",
    "4. Customer Success: Putting customer success at the forefront of every decision we make.\n",
    "5. Excellence: Striving to deliver the best in everything we do.\n",
    "\"\"\"\n",
    "\n",
    "CANDIDATE_RESUME = \"\"\"\n",
    "Name: John Doe\n",
    "Email: john.doe@example.com\n",
    "\n",
    "Summary:\n",
    "Passionate Software Engineer with 4+ years of experience in backend development. Proven track record of building and optimizing high-performance APIs and microservices. Adept in working with cross-functional teams and improving system security.\n",
    "\n",
    "Professional Experience:\n",
    "\n",
    "Backend Engineer | TechSolutions Inc.\n",
    "January 2020 - Present\n",
    "\n",
    "\t•\tDeveloped and maintained scalable REST APIs using Python and Flask.\n",
    "\t•\tWorked with cross-functional teams to deliver new features and product updates.\n",
    "\t•\tImplemented security measures like token-based authentication and encryption.\n",
    "\t•\tOptimized database queries and improved application performance by 30%.\n",
    "\t•\tAssisted in the migration of services to AWS, ensuring high availability and scalability.\n",
    "\n",
    "Software Engineer | CodeFactory Labs\n",
    "June 2018 - December 2019\n",
    "\n",
    "\t•\tBuilt microservices in Go to support large-scale applications.\n",
    "\t•\tCollaborated with front-end teams to design and integrate APIs.\n",
    "\t•\tImproved error handling and logging systems to enhance troubleshooting efficiency.\n",
    "\t•\tUsed Docker and Kubernetes for containerization and deployment of applications.\n",
    "\n",
    "Education:\n",
    "Bachelor’s Degree in Computer Science, University of California, Berkeley, 2017\n",
    "\"\"\""
   ]
  },
  {
   "cell_type": "code",
   "execution_count": 193,
   "metadata": {},
   "outputs": [
    {
     "name": "stdout",
     "output_type": "stream",
     "text": [
      "['Given your experience working with Python and Flask to develop scalable REST APIs, can you describe a challenging situation you faced in this context and how you overcame it?', 'At InnovateTech Solutions, collaboration is one of our core values. Can you share an experience where you worked closely with cross-functional teams, and how it contributed to the success of a project?', 'We aim to drive innovation at InnovateTech Solutions by constantly seeking new ways to solve problems. Can you tell us about a recent project where you implemented an innovative solution, particularly in the context of improving system security or performance?']\n"
     ]
    }
   ],
   "source": [
    "from langchain_openai import ChatOpenAI\n",
    "from langchain_core.prompts import ChatPromptTemplate\n",
    "from pydantic import BaseModel, Field\n",
    "from typing import Optional, List\n",
    "\n",
    "model = ChatOpenAI(model=\"gpt-4o\")\n",
    "\n",
    "class InterviewQuestions(BaseModel):\n",
    "    questions: Optional[List[str]] = Field(\n",
    "        description=\"List of interview questions to ask the candidate.\"\n",
    "    )\n",
    "\n",
    "interview_questions_prompt_template = ChatPromptTemplate.from_messages([\n",
    "    ('system', \"\"\"You are a recruiter. You are an expert interview question generator. Your task is to generate relevant, targeted interview questions based on the following inputs:\n",
    "    Job Post: Contains the specific requirements, qualifications, and responsibilities for the position.\n",
    "    <jobPost>\n",
    "    {job_post}\n",
    "    </jobPost>\n",
    "     \n",
    "    Company Profile: Provides insights into the company’s values, culture, products, and goals.\n",
    "    <companyProfile>\n",
    "    {company_profile}\n",
    "    </companyProfile>\n",
    "     \n",
    "    Candidate Resume: Highlights the candidate’s skills, experience, and accomplishments.\n",
    "    <candidateResume>\n",
    "    {candidate_resume}\n",
    "    </candidateResume>\n",
    "    \"\"\"),\n",
    "    ('user', \"Provide 3 (three) thoughtful and personalized interview questions that assess the candidate's fit for the role.\")\n",
    "])\n",
    "\n",
    "interview_questions_llm_structured_output = interview_questions_prompt_template | model.with_structured_output(InterviewQuestions)\n",
    "interview_questions_response = interview_questions_llm_structured_output.invoke({\"job_post\": JOB_POST, \"company_profile\": COMPANY_PROFILE, \"candidate_resume\": CANDIDATE_RESUME})\n",
    "interview_questions = interview_questions_response.questions\n",
    "print(interview_questions)"
   ]
  },
  {
   "cell_type": "markdown",
   "metadata": {},
   "source": [
    "## Building AI Interview Agent"
   ]
  },
  {
   "cell_type": "code",
   "execution_count": 194,
   "metadata": {},
   "outputs": [],
   "source": [
    "form_result = [{\"question_id\": index, \"interview_question\": interview_question, \"candidate_answer\": \"\"} for index, interview_question in enumerate(interview_questions)]\n",
    "\n",
    "class InfoGatheringDetail(BaseModel):\n",
    "    question_id: int = Field(\n",
    "        description=\"The ID of the interview question.\"\n",
    "    )\n",
    "    interview_question: str = Field(\n",
    "        description=\"The interview question to ask the candidate\"\n",
    "    )\n",
    "\n",
    "info_gathering_prompt_template = ChatPromptTemplate.from_messages([\n",
    "    ('system', \"\"\"<context>\n",
    "You are an AI Interview Agent having a conversation with the candidate to gather some required information. You should ask for the information in a natural, conversational way.\n",
    "</context>\n",
    "\n",
    "<instructions>\n",
    "- Do not greet the user, say hi, or introduce yourself because it is assumed that the user is already aware that they are interacting with an AI assistant\n",
    "- Ask for each piece of information one at a time, waiting for the user's response before moving on to the next item\n",
    "- Don't list out all the required information upfront\n",
    "- Phrase your requests as questions that flow naturally in the conversation \n",
    "- For output, provide both the question_id and interview_question\n",
    "- If the user provides information you didn't explicitly ask for yet, acknowledge it and don't ask for it again later\n",
    "- Once you have collected all the required information or if there is no information to collect (the ask_for list is empty), simply say thank you and tell the user that you have everything that you need for now and you will provide an application update and end the conversation.\n",
    "</instructions>\"\"\"),\n",
    "    ('user', \"\"\"<ask_for>\n",
    "{ask_for}\n",
    "</ask_for>\"\"\")\n",
    "])\n",
    "info_gathering_llm = info_gathering_prompt_template | model.with_structured_output(InfoGatheringDetail)\n",
    "\n",
    "def gather_info(form_result):\n",
    "    ask_for = [f'<questionId>{item[\"question_id\"]}</questionId><interviewQuestion>{item[\"interview_question\"]}</interviewQuestion>' for item in form_result if item[\"candidate_answer\"] == \"\" or item[\"candidate_answer\"] == \"<UNKNOWN>\"]\n",
    "    info_gathering_response = info_gathering_llm.invoke({\"ask_for\": ask_for})\n",
    "    return info_gathering_response"
   ]
  },
  {
   "cell_type": "code",
   "execution_count": 195,
   "metadata": {},
   "outputs": [],
   "source": [
    "def update_list_if_not_empty(target_list, update_item):\n",
    "    # Check if 'question_id' and 'candidate_answer' exist in update_item\n",
    "    if update_item.get('question_id') != None and update_item.get('candidate_answer') != None:\n",
    "        updated = False\n",
    "        # Loop through target_list to find the matching 'question_id'\n",
    "        for item in target_list:\n",
    "            if item.get('question_id') == update_item.get('question_id'):\n",
    "                # Update 'candidate_answer' if it's not empty in update_item\n",
    "                if update_item.get('candidate_answer'):\n",
    "                    item['candidate_answer'] = update_item['candidate_answer']\n",
    "                updated = True\n",
    "                break\n",
    "        # If no matching 'question_id' is found, add update_item to target_list\n",
    "        if not updated and update_item.get('candidate_answer'):\n",
    "            target_list.append(update_item)\n",
    "    \n",
    "    return target_list"
   ]
  },
  {
   "cell_type": "code",
   "execution_count": 196,
   "metadata": {},
   "outputs": [
    {
     "name": "stdout",
     "output_type": "stream",
     "text": [
      "AI Interview Agent: Hello! I'm an AI Interview Agent and I'm here to help you today. To provide the best assistance, there are a few key pieces of information I need to collect from you first, if that's alright. So to start off, could you please answer the following questions?\n",
      "AI Interview Agent: Given your experience working with Python and Flask to develop scalable REST APIs, can you describe a challenging situation you faced in this context and how you overcame it?\n"
     ]
    }
   ],
   "source": [
    "# Start the conversation with any predefined message\n",
    "print(\"AI Interview Agent:\", \"Hello! I'm an AI Interview Agent and I'm here to help you today. To provide the best assistance, there are a few key pieces of information I need to collect from you first, if that's alright. So to start off, could you please answer the following questions?\")\n",
    "gather_info_response = gather_info(form_result)\n",
    "print(\"AI Interview Agent:\", gather_info_response.interview_question)"
   ]
  },
  {
   "cell_type": "code",
   "execution_count": 197,
   "metadata": {},
   "outputs": [
    {
     "name": "stdout",
     "output_type": "stream",
     "text": [
      "[{'question_id': 0, 'interview_question': 'Given your experience working with Python and Flask to develop scalable REST APIs, can you describe a challenging situation you faced in this context and how you overcame it?', 'candidate_answer': 'One of the most memorable projects I worked on involved developing a scalable REST API for an e-commerce platform using Python and Flask. The API was responsible for handling a high volume of product search queries, user authentication, and order processing, among other features.'}, {'question_id': 1, 'interview_question': 'At InnovateTech Solutions, collaboration is one of our core values. Can you share an experience where you worked closely with cross-functional teams, and how it contributed to the success of a project?', 'candidate_answer': ''}, {'question_id': 2, 'interview_question': 'We aim to drive innovation at InnovateTech Solutions by constantly seeking new ways to solve problems. Can you tell us about a recent project where you implemented an innovative solution, particularly in the context of improving system security or performance?', 'candidate_answer': ''}]\n"
     ]
    }
   ],
   "source": [
    "user_input = \"One of the most memorable projects I worked on involved developing a scalable REST API for an e-commerce platform using Python and Flask. The API was responsible for handling a high volume of product search queries, user authentication, and order processing, among other features.\"\n",
    "form_result = update_list_if_not_empty(form_result, {\"question_id\": gather_info_response.question_id, \"candidate_answer\": user_input})\n",
    "print(form_result)"
   ]
  },
  {
   "cell_type": "code",
   "execution_count": 198,
   "metadata": {},
   "outputs": [
    {
     "name": "stdout",
     "output_type": "stream",
     "text": [
      "AI Interview Agent: At InnovateTech Solutions, collaboration is one of our core values. Can you share an experience where you worked closely with cross-functional teams, and how it contributed to the success of a project?\n"
     ]
    }
   ],
   "source": [
    "gather_info_response = gather_info(form_result)\n",
    "print(\"AI Interview Agent:\", gather_info_response.interview_question)"
   ]
  },
  {
   "cell_type": "code",
   "execution_count": 199,
   "metadata": {},
   "outputs": [
    {
     "name": "stdout",
     "output_type": "stream",
     "text": [
      "[{'question_id': 0, 'interview_question': 'Given your experience working with Python and Flask to develop scalable REST APIs, can you describe a challenging situation you faced in this context and how you overcame it?', 'candidate_answer': 'One of the most memorable projects I worked on involved developing a scalable REST API for an e-commerce platform using Python and Flask. The API was responsible for handling a high volume of product search queries, user authentication, and order processing, among other features.'}, {'question_id': 1, 'interview_question': 'At InnovateTech Solutions, collaboration is one of our core values. Can you share an experience where you worked closely with cross-functional teams, and how it contributed to the success of a project?', 'candidate_answer': 'I was part of a project where we developed a customer feedback and analytics platform for a SaaS product. This project required close collaboration across several cross-functional teams—front-end developers, product managers, designers, DevOps engineers, and QA.'}, {'question_id': 2, 'interview_question': 'We aim to drive innovation at InnovateTech Solutions by constantly seeking new ways to solve problems. Can you tell us about a recent project where you implemented an innovative solution, particularly in the context of improving system security or performance?', 'candidate_answer': ''}]\n"
     ]
    }
   ],
   "source": [
    "user_input = \"I was part of a project where we developed a customer feedback and analytics platform for a SaaS product. This project required close collaboration across several cross-functional teams—front-end developers, product managers, designers, DevOps engineers, and QA.\"\n",
    "form_result = update_list_if_not_empty(form_result, {\"question_id\": gather_info_response.question_id, \"candidate_answer\": user_input})\n",
    "print(form_result)"
   ]
  },
  {
   "cell_type": "code",
   "execution_count": 200,
   "metadata": {},
   "outputs": [
    {
     "name": "stdout",
     "output_type": "stream",
     "text": [
      "AI Interview Agent: We aim to drive innovation at InnovateTech Solutions by constantly seeking new ways to solve problems. Can you tell us about a recent project where you implemented an innovative solution, particularly in the context of improving system security or performance?\n"
     ]
    }
   ],
   "source": [
    "gather_info_response = gather_info(form_result)\n",
    "print(\"AI Interview Agent:\", gather_info_response.interview_question)"
   ]
  },
  {
   "cell_type": "code",
   "execution_count": 201,
   "metadata": {},
   "outputs": [
    {
     "name": "stdout",
     "output_type": "stream",
     "text": [
      "[{'question_id': 0, 'interview_question': 'Given your experience working with Python and Flask to develop scalable REST APIs, can you describe a challenging situation you faced in this context and how you overcame it?', 'candidate_answer': 'One of the most memorable projects I worked on involved developing a scalable REST API for an e-commerce platform using Python and Flask. The API was responsible for handling a high volume of product search queries, user authentication, and order processing, among other features.'}, {'question_id': 1, 'interview_question': 'At InnovateTech Solutions, collaboration is one of our core values. Can you share an experience where you worked closely with cross-functional teams, and how it contributed to the success of a project?', 'candidate_answer': 'I was part of a project where we developed a customer feedback and analytics platform for a SaaS product. This project required close collaboration across several cross-functional teams—front-end developers, product managers, designers, DevOps engineers, and QA.'}, {'question_id': 2, 'interview_question': 'We aim to drive innovation at InnovateTech Solutions by constantly seeking new ways to solve problems. Can you tell us about a recent project where you implemented an innovative solution, particularly in the context of improving system security or performance?', 'candidate_answer': 'I worked on a project where we aimed to improve the performance and security of a high-traffic e-commerce platform. The platform handled thousands of transactions daily, which exposed it to potential security vulnerabilities and performance bottlenecks, especially during peak shopping periods like Black Friday.'}]\n"
     ]
    }
   ],
   "source": [
    "user_input = \"I worked on a project where we aimed to improve the performance and security of a high-traffic e-commerce platform. The platform handled thousands of transactions daily, which exposed it to potential security vulnerabilities and performance bottlenecks, especially during peak shopping periods like Black Friday.\"\n",
    "form_result = update_list_if_not_empty(form_result, {\"question_id\": gather_info_response.question_id, \"candidate_answer\": user_input})\n",
    "print(form_result)"
   ]
  },
  {
   "cell_type": "code",
   "execution_count": 203,
   "metadata": {},
   "outputs": [
    {
     "name": "stdout",
     "output_type": "stream",
     "text": [
      "AI Interview Agent: Thank you! I have everything I need for now. I'll provide an application update soon.\n"
     ]
    }
   ],
   "source": [
    "gather_info_response = gather_info(form_result)\n",
    "print(\"AI Interview Agent:\", gather_info_response.interview_question)"
   ]
  }
 ],
 "metadata": {
  "kernelspec": {
   "display_name": "env",
   "language": "python",
   "name": "python3"
  },
  "language_info": {
   "codemirror_mode": {
    "name": "ipython",
    "version": 3
   },
   "file_extension": ".py",
   "mimetype": "text/x-python",
   "name": "python",
   "nbconvert_exporter": "python",
   "pygments_lexer": "ipython3",
   "version": "3.10.8"
  }
 },
 "nbformat": 4,
 "nbformat_minor": 2
}
