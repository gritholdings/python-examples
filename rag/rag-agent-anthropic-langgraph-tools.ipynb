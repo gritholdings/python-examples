{
 "cells": [
  {
   "cell_type": "markdown",
   "metadata": {},
   "source": [
    "# Build an agent that uses LangGraph and custom tools\n",
    "LangGraph is a powerful framework for constructing intelligent agents that leverage large language models (LLMs) to perform complex tasks. Built on top of the popular LangChain library, LangGraph provides a high-level interface for defining agent behavior using a graph-based approach.\n",
    "\n",
    "In this notebook, we'll walk through the process of building an intelligent agent using LangGraph. We'll cover the key concepts and provide code samples."
   ]
  },
  {
   "cell_type": "markdown",
   "metadata": {},
   "source": [
    "## Setting Up\n",
    "Uncomment to install the package"
   ]
  },
  {
   "cell_type": "code",
   "execution_count": 181,
   "metadata": {},
   "outputs": [],
   "source": [
    "# pip install -U langgraph langchain-anthropic"
   ]
  },
  {
   "cell_type": "markdown",
   "metadata": {},
   "source": [
    "Uncomment if API key is not added yet"
   ]
  },
  {
   "cell_type": "code",
   "execution_count": 182,
   "metadata": {},
   "outputs": [],
   "source": [
    "# import getpass\n",
    "# import os\n",
    "\n",
    "# os.environ[\"ANTHROPIC_API_KEY\"] = getpass.getpass()"
   ]
  },
  {
   "cell_type": "markdown",
   "metadata": {},
   "source": [
    "# Build a Basic Agent"
   ]
  },
  {
   "cell_type": "code",
   "execution_count": 183,
   "metadata": {},
   "outputs": [],
   "source": [
    "import os\n",
    "import uuid\n",
    "from typing import Dict, List, Literal\n",
    "\n",
    "from langgraph.graph import StateGraph, START, END, MessagesState\n",
    "from langgraph.prebuilt import ToolNode, tools_condition\n",
    "from langgraph.checkpoint.memory import MemorySaver\n",
    "\n",
    "from langchain.prompts import ChatPromptTemplate\n",
    "from langchain_anthropic import ChatAnthropic\n",
    "from langchain_core.tools import tool"
   ]
  },
  {
   "cell_type": "code",
   "execution_count": 184,
   "metadata": {},
   "outputs": [],
   "source": [
    "llm = ChatAnthropic(model=\"claude-3-5-sonnet-20240620\", api_key=os.environ[\"ANTHROPIC_API_KEY\"], verbose = True)\n",
    "\n",
    "graph_builder = StateGraph(MessagesState)"
   ]
  },
  {
   "cell_type": "markdown",
   "metadata": {},
   "source": [
    "## Add Tools"
   ]
  },
  {
   "cell_type": "code",
   "execution_count": 185,
   "metadata": {},
   "outputs": [],
   "source": [
    "# use mock recent interactions. Ideally this would be a call to a CRM API\n",
    "recent_interactions = [\n",
    "    {\"date\": \"2024-08-01\", \"note\": \"Talked about our cool new product. They are very interested in QuickShipper, but they want to see a demo and hear about pricing details.\"},\n",
    "    {\"date\": \"2024-07-28\", \"note\": \"Only got to chat for a few minutes. They told me their budgets had been cut in half.\"},\n",
    "    {\"date\": \"2024-07-20\", \"note\": \"Had our monthly touch base. We promised to follow up with an overview of our upcoming QuickShipper service.\"},\n",
    "    {\"date\": \"2024-07-10\", \"note\": \"Followed up on reliability concerns.\"},\n",
    "    {\"date\": \"2024-06-25\", \"note\": \"Discussed their concerns about our current shipping service. They said it is not very reliable.\"},\n",
    "]\n",
    "\n",
    "@tool\n",
    "def get_recent_interactions() -> List[Dict[str, str]]:\n",
    "    \"\"\"\n",
    "    Retrieves the most recent interactions with a client.\n",
    "    \n",
    "    Returns:\n",
    "    list: A list of dictionaries containing date and note for each interaction.\n",
    "    \"\"\"\n",
    "    return recent_interactions\n",
    "\n",
    "tools = []\n",
    "tools.append(get_recent_interactions)\n",
    "\n",
    "tool_node = ToolNode(tools=tools)\n",
    "graph_builder.add_node(tool_node)"
   ]
  },
  {
   "cell_type": "markdown",
   "metadata": {},
   "source": [
    "## Define the nodes"
   ]
  },
  {
   "cell_type": "code",
   "execution_count": 186,
   "metadata": {},
   "outputs": [],
   "source": [
    "CRM_ASSISTANT_PROMPT = (\"You are a customer relationship management (CRM) assistant designed to support a salesperson in \"\n",
    "    \"effectively managing their customer relationships. You have access to comprehensive customer data, \"\n",
    "    \"including company overviews, interaction history (e.g., meeting times, notes on discussions), \"\n",
    "    \"and customer preferences. Your primary task is to help the salesperson plan their interactions and \"\n",
    "    \"tailor their approach to maximize customer satisfaction and drive sales.\"\n",
    ")\n",
    "\n",
    "chat_prompt_template = ChatPromptTemplate.from_messages([\n",
    "    (\"system\", CRM_ASSISTANT_PROMPT),\n",
    "    (\"human\", \"{input}\")\n",
    "])\n",
    "\n",
    "# Tell the LLM to use the tool\n",
    "llm_with_tools = chat_prompt_template | llm.bind_tools(tools)\n",
    "\n",
    "def crm_assistant(state: MessagesState):\n",
    "    messages = state['messages']\n",
    "    response = llm_with_tools.invoke(messages)\n",
    "    # We return a list, because this will get added to the existing list\n",
    "    return {\"messages\": [response]}\n",
    "\n",
    "graph_builder.add_node(\"crm_assistant\", crm_assistant)"
   ]
  },
  {
   "cell_type": "code",
   "execution_count": 187,
   "metadata": {},
   "outputs": [],
   "source": [
    "graph_builder.add_edge(START, \"crm_assistant\")\n",
    "graph_builder.add_conditional_edges(\"crm_assistant\", tools_condition)\n",
    "graph_builder.add_edge(\"crm_assistant\", \"tools\")\n",
    "\n",
    "checkpointer = MemorySaver()\n",
    "\n",
    "graph = graph_builder.compile(checkpointer=checkpointer)"
   ]
  },
  {
   "cell_type": "code",
   "execution_count": 188,
   "metadata": {},
   "outputs": [
    {
     "data": {
      "image/jpeg": "[encoded data removed]",
      "text/plain": [
       "<IPython.core.display.Image object>"
      ]
     },
     "metadata": {},
     "output_type": "display_data"
    }
   ],
   "source": [
    "from IPython.display import Image, display\n",
    "\n",
    "display(Image(graph.get_graph(xray=True).draw_mermaid_png()))"
   ]
  },
  {
   "cell_type": "markdown",
   "metadata": {},
   "source": [
    "## Running the Agent"
   ]
  },
  {
   "cell_type": "code",
   "execution_count": 189,
   "metadata": {},
   "outputs": [
    {
     "name": "stdout",
     "output_type": "stream",
     "text": [
      "User: Can you help me? I have a question.\n",
      "Assistant: Of course! I'd be happy to help you with your question. As a CRM assistant, I'm here to support you with managing customer relationships, planning interactions, and providing insights based on customer data. Could you please provide more details about your question? Is it related to a specific customer, interaction history, or any particular aspect of customer relationship management?\n",
      "User: Given our recent interactions, what are their top concerns and interests?\n",
      "Assistant: [{\"date\": \"2024-08-01\", \"note\": \"Talked about our cool new product. They are very interested in QuickShipper, but they want to see a demo and hear about pricing details.\"}, {\"date\": \"2024-07-28\", \"note\": \"Only got to chat for a few minutes. They told me their budgets had been cut in half.\"}, {\"date\": \"2024-07-20\", \"note\": \"Had our monthly touch base. We promised to follow up with an overview of our upcoming QuickShipper service.\"}, {\"date\": \"2024-07-10\", \"note\": \"Followed up on reliability concerns.\"}, {\"date\": \"2024-06-25\", \"note\": \"Discussed their concerns about our current shipping service. They said it is not very reliable.\"}]\n",
      "User: Can you summarize it for me?\n",
      "Assistant: Certainly! I'd be happy to summarize the recent interactions and highlight the top concerns and interests based on the information we have. Here's a summary of the key points from your recent client interactions:\n",
      "\n",
      "1. Top Concerns:\n",
      "   a. Reliability: The client expressed concerns about the reliability of your current shipping service.\n",
      "   b. Budget constraints: They mentioned that their budgets had been cut in half, indicating financial pressures.\n",
      "\n",
      "2. Top Interests:\n",
      "   a. QuickShipper: The client showed strong interest in your new QuickShipper product.\n",
      "\n",
      "3. Key Action Items:\n",
      "   a. Product Demo: The client wants to see a demonstration of QuickShipper.\n",
      "   b. Pricing Details: They are interested in learning about the pricing for QuickShipper.\n",
      "   c. Follow-up: You promised to provide an overview of the upcoming QuickShipper service.\n",
      "\n",
      "4. Timeline:\n",
      "   - The interactions span from June 25 to August 1, 2024, with the most recent conversation focusing on QuickShipper.\n",
      "\n",
      "5. Additional Notes:\n",
      "   - The client's interest in QuickShipper may be linked to their previous concerns about the reliability of your current shipping service.\n",
      "   - The budget cuts mentioned could impact their decision-making process, so pricing information for QuickShipper will be crucial.\n",
      "\n",
      "To move forward, you may want to:\n",
      "1. Schedule a demo of QuickShipper\n",
      "2. Prepare a detailed pricing proposal, keeping in mind their budget constraints\n",
      "3. Highlight how QuickShipper addresses their reliability concerns\n",
      "4. Follow up with the promised overview of QuickShipper if you haven't already\n",
      "\n",
      "Is there any specific aspect of this summary you'd like me to elaborate on?\n",
      "User: quit\n",
      "Assistant: Goodbye!\n"
     ]
    }
   ],
   "source": [
    "user_input_list = [\"Can you help me? I have a question.\",\n",
    "                   \"Given our recent interactions, what are their top concerns and interests?\",\n",
    "                   \"Can you summarize it for me?\",\n",
    "                   \"quit\"]\n",
    "\n",
    "# To remember the context of conversation between session, use same thread_id\n",
    "THREAD_ID = uuid.uuid4()\n",
    "\n",
    "for user_input_item in  user_input_list:\n",
    "    printed_user_input = \"User: \" + user_input_item\n",
    "    print(printed_user_input)\n",
    "    if user_input_item.lower() in [\"quit\", \"exit\", \"q\"]:\n",
    "        print(\"Assistant: Goodbye!\")\n",
    "        break\n",
    "    initial_state = {\n",
    "        \"messages\": [{\"role\": \"user\", \"content\": user_input_item}]\n",
    "    }\n",
    "    final_state = graph.invoke(initial_state, config={\"configurable\": {\"thread_id\": THREAD_ID}})\n",
    "    assistant_response = final_state[\"messages\"][-1].content\n",
    "    print(\"Assistant:\", assistant_response)"
   ]
  }
 ],
 "metadata": {
  "kernelspec": {
   "display_name": "env",
   "language": "python",
   "name": "python3"
  },
  "language_info": {
   "codemirror_mode": {
    "name": "ipython",
    "version": 3
   },
   "file_extension": ".py",
   "mimetype": "text/x-python",
   "name": "python",
   "nbconvert_exporter": "python",
   "pygments_lexer": "ipython3",
   "version": "3.10.8"
  }
 },
 "nbformat": 4,
 "nbformat_minor": 2
}
