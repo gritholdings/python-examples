{
 "cells": [
  {
   "cell_type": "markdown",
   "metadata": {},
   "source": [
    "# Build an agent that uses LangGraph and custom tools\n",
    "LangGraph is a powerful framework for constructing intelligent agents that leverage large language models (LLMs) to perform complex tasks. Built on top of the popular LangChain library, LangGraph provides a high-level interface for defining agent behavior using a graph-based approach.\n",
    "\n",
    "In this notebook, we'll walk through the process of building an intelligent agent using LangGraph. We'll cover the key concepts and provide code samples."
   ]
  },
  {
   "cell_type": "markdown",
   "metadata": {},
   "source": [
    "## Setting Up\n",
    "Uncomment to install the package"
   ]
  },
  {
   "cell_type": "code",
   "execution_count": 15,
   "metadata": {},
   "outputs": [],
   "source": [
    "# pip install -U langgraph langchain-anthropic"
   ]
  },
  {
   "cell_type": "markdown",
   "metadata": {},
   "source": [
    "Uncomment if API key is not added yet"
   ]
  },
  {
   "cell_type": "code",
   "execution_count": 16,
   "metadata": {},
   "outputs": [],
   "source": [
    "# import getpass\n",
    "# import os\n",
    "\n",
    "# os.environ[\"ANTHROPIC_API_KEY\"] = getpass.getpass()"
   ]
  },
  {
   "cell_type": "markdown",
   "metadata": {},
   "source": [
    "# Build a Basic Agent"
   ]
  },
  {
   "cell_type": "code",
   "execution_count": 17,
   "metadata": {},
   "outputs": [],
   "source": [
    "import os\n",
    "import uuid\n",
    "from typing import Dict, List, Literal\n",
    "\n",
    "from langgraph.graph import StateGraph, START, END, MessagesState\n",
    "from langgraph.prebuilt import ToolNode\n",
    "from langgraph.checkpoint.memory import MemorySaver\n",
    "\n",
    "from langchain.prompts import ChatPromptTemplate\n",
    "from langchain_anthropic import ChatAnthropic\n",
    "from langchain_core.tools import tool"
   ]
  },
  {
   "cell_type": "code",
   "execution_count": 18,
   "metadata": {},
   "outputs": [],
   "source": [
    "llm = ChatAnthropic(model=\"claude-3-5-sonnet-20240620\", api_key=os.environ[\"ANTHROPIC_API_KEY\"], verbose = True)\n",
    "\n",
    "graph_builder = StateGraph(MessagesState)"
   ]
  },
  {
   "cell_type": "markdown",
   "metadata": {},
   "source": [
    "## Add Tools"
   ]
  },
  {
   "cell_type": "code",
   "execution_count": 19,
   "metadata": {},
   "outputs": [],
   "source": [
    "# use mock recent interactions. Ideally this would be a call to a CRM API\n",
    "recent_interactions = [\n",
    "    {\"date\": \"2024-08-01\", \"note\": \"Talked about our cool new product. They are very interested in QuickShipper, but they want to see a demo and hear about pricing details.\"},\n",
    "    {\"date\": \"2024-07-28\", \"note\": \"Only got to chat for a few minutes. They told me their budgets had been cut in half.\"},\n",
    "    {\"date\": \"2024-07-20\", \"note\": \"Had our monthly touch base. We promised to follow up with an overview of our upcoming QuickShipper service.\"},\n",
    "    {\"date\": \"2024-07-10\", \"note\": \"Followed up on reliability concerns.\"},\n",
    "    {\"date\": \"2024-06-25\", \"note\": \"Discussed their concerns about our current shipping service. They said it is not very reliable.\"},\n",
    "]\n",
    "\n",
    "@tool\n",
    "def get_recent_interactions() -> List[Dict[str, str]]:\n",
    "    \"\"\"\n",
    "    Retrieves the most recent interactions with a client.\n",
    "    \n",
    "    Returns:\n",
    "    list: A list of dictionaries containing date and note for each interaction.\n",
    "    \"\"\"\n",
    "    return recent_interactions\n",
    "\n",
    "tools = []\n",
    "tools.append(get_recent_interactions)\n",
    "\n",
    "tool_node = ToolNode(tools=tools)\n",
    "graph_builder.add_node(tool_node)"
   ]
  },
  {
   "cell_type": "markdown",
   "metadata": {},
   "source": [
    "## Define the nodes"
   ]
  },
  {
   "cell_type": "code",
   "execution_count": 20,
   "metadata": {},
   "outputs": [],
   "source": [
    "CRM_ASSISTANT_PROMPT = (\"You are a customer relationship management (CRM) assistant designed to support a salesperson in \"\n",
    "    \"effectively managing their customer relationships. You have access to comprehensive customer data, \"\n",
    "    \"including company overviews, interaction history (e.g., meeting times, notes on discussions), \"\n",
    "    \"and customer preferences. Your primary task is to help the salesperson plan their interactions and \"\n",
    "    \"tailor their approach to maximize customer satisfaction and drive sales.\"\n",
    ")\n",
    "\n",
    "chat_prompt_template = ChatPromptTemplate.from_messages([\n",
    "    (\"system\", CRM_ASSISTANT_PROMPT),\n",
    "    (\"human\", \"{input}\")\n",
    "])\n",
    "\n",
    "# Tell the LLM to use the tool\n",
    "llm_with_tools = chat_prompt_template | llm.bind_tools(tools)\n",
    "\n",
    "def crm_assistant(state: MessagesState):\n",
    "    messages = state['messages']\n",
    "    response = llm_with_tools.invoke(messages)\n",
    "    # We return a list, because this will get added to the existing list\n",
    "    return {\"messages\": [response]}\n",
    "\n",
    "graph_builder.add_node(\"crm_assistant\", crm_assistant)\n",
    "\n",
    "def should_use_tools(state: MessagesState) -> Literal[\"tools\", END]:\n",
    "    messages = state['messages']\n",
    "    last_message = messages[-1]\n",
    "    # If LLM performs a tool call, route to the \"tools\" node\n",
    "    if last_message.tool_calls:\n",
    "        return \"tools\"\n",
    "    # Otherwise, stop\n",
    "    return END\n"
   ]
  },
  {
   "cell_type": "code",
   "execution_count": 21,
   "metadata": {},
   "outputs": [],
   "source": [
    "graph_builder.add_edge(START, \"crm_assistant\")\n",
    "graph_builder.add_conditional_edges(\"crm_assistant\", should_use_tools)\n",
    "graph_builder.add_edge(\"tools\", \"crm_assistant\")\n",
    "\n",
    "checkpointer = MemorySaver()\n",
    "\n",
    "graph = graph_builder.compile(checkpointer=checkpointer)"
   ]
  },
  {
   "cell_type": "code",
   "execution_count": 22,
   "metadata": {},
   "outputs": [
    {
     "data": {
      "image/jpeg": "[encoded data removed]",
      "text/plain": [
       "<IPython.core.display.Image object>"
      ]
     },
     "metadata": {},
     "output_type": "display_data"
    }
   ],
   "source": [
    "from IPython.display import Image, display\n",
    "\n",
    "display(Image(graph.get_graph(xray=True).draw_mermaid_png()))"
   ]
  },
  {
   "cell_type": "markdown",
   "metadata": {},
   "source": [
    "## Running the Agent"
   ]
  },
  {
   "cell_type": "code",
   "execution_count": 23,
   "metadata": {},
   "outputs": [
    {
     "name": "stdout",
     "output_type": "stream",
     "text": [
      "User: Can you help me? I have a question.\n",
      "Assistant: Of course! I'd be happy to help you with your question. As a CRM assistant, I'm here to support you with managing customer relationships, planning interactions, and tailoring your approach to maximize customer satisfaction and drive sales. \n",
      "\n",
      "Could you please provide more details about your question? Is it related to a specific customer, a recent interaction, or perhaps you need information about planning an upcoming meeting? The more specific you can be, the better I can assist you using the tools and information available to me.\n",
      "User: Given our recent interactions, what are their top concerns and interests?\n",
      "Assistant: Thank you for providing that context. I've retrieved the recent interactions, and I can now summarize the top concerns and interests based on these interactions. Here's what I've gathered:\n",
      "\n",
      "1. Interest in QuickShipper:\n",
      "   - The client has shown significant interest in your new product, QuickShipper.\n",
      "   - They are very interested but want more information, specifically:\n",
      "     a) A demo of the product\n",
      "     b) Pricing details\n",
      "\n",
      "2. Budget Constraints:\n",
      "   - There was a recent mention that their budgets have been cut in half. This is a significant concern that may affect their purchasing decisions.\n",
      "\n",
      "3. Reliability Issues:\n",
      "   - The client has expressed concerns about the reliability of your current shipping service.\n",
      "   - This appears to be an ongoing issue, as it was mentioned in two separate interactions.\n",
      "\n",
      "4. Need for Follow-up:\n",
      "   - You promised to provide an overview of the upcoming QuickShipper service. Ensuring this follow-up happens is important for maintaining the client's interest.\n",
      "\n",
      "5. Time Constraints:\n",
      "   - One interaction note mentions only having a few minutes to chat, which might indicate the client is busy or has limited availability.\n",
      "\n",
      "Based on these interactions, here are the key points to focus on:\n",
      "\n",
      "1. Prioritize scheduling a demo of QuickShipper and prepare detailed pricing information.\n",
      "2. Address the reliability concerns of the current shipping service and be prepared to explain how QuickShipper improves upon these issues.\n",
      "3. Be mindful of their budget constraints when discussing pricing and potential solutions.\n",
      "4. Ensure all promised follow-ups are completed promptly, particularly the overview of QuickShipper.\n",
      "5. Consider offering a comprehensive presentation that covers all these points, given their apparent time constraints.\n",
      "\n",
      "Would you like me to help you prepare for a follow-up meeting or draft any materials based on these insights?\n",
      "User: quit\n",
      "Assistant: Goodbye!\n"
     ]
    }
   ],
   "source": [
    "user_input_list = [\"Can you help me? I have a question.\",\n",
    "                   \"Given our recent interactions, what are their top concerns and interests?\",\n",
    "                   \"quit\"]\n",
    "\n",
    "# To remember the context of conversation between session, use same thread_id\n",
    "THREAD_ID = uuid.uuid4()\n",
    "\n",
    "for user_input_item in  user_input_list:\n",
    "    printed_user_input = \"User: \" + user_input_item\n",
    "    print(printed_user_input)\n",
    "    if user_input_item.lower() in [\"quit\", \"exit\", \"q\"]:\n",
    "        print(\"Assistant: Goodbye!\")\n",
    "        break\n",
    "    initial_state = {\n",
    "        \"messages\": [{\"role\": \"user\", \"content\": user_input_item}]\n",
    "    }\n",
    "    final_state = graph.invoke(initial_state, config={\"configurable\": {\"thread_id\": THREAD_ID}})\n",
    "    assistant_response = final_state[\"messages\"][-1].content\n",
    "    print(\"Assistant:\", assistant_response)"
   ]
  }
 ],
 "metadata": {
  "kernelspec": {
   "display_name": "env",
   "language": "python",
   "name": "python3"
  },
  "language_info": {
   "codemirror_mode": {
    "name": "ipython",
    "version": 3
   },
   "file_extension": ".py",
   "mimetype": "text/x-python",
   "name": "python",
   "nbconvert_exporter": "python",
   "pygments_lexer": "ipython3",
   "version": "3.10.8"
  }
 },
 "nbformat": 4,
 "nbformat_minor": 2
}
