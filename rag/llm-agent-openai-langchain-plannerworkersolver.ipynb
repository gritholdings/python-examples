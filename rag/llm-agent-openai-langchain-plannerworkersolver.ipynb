{
 "cells": [
  {
   "cell_type": "markdown",
   "metadata": {},
   "source": [
    "# Planner Worker Solver"
   ]
  },
  {
   "cell_type": "markdown",
   "metadata": {},
   "source": [
    "# Setting Up\n",
    "Uncomment to install the package"
   ]
  },
  {
   "cell_type": "code",
   "execution_count": 111,
   "metadata": {
    "vscode": {
     "languageId": "shellscript"
    }
   },
   "outputs": [],
   "source": [
    "# pip install -U \"langgraph>=0.2,<0.3\" \"langchain>=0.3,<0.4\" \"langchain-openai>=0.2,<0.3\" \"tavily-python\""
   ]
  },
  {
   "cell_type": "markdown",
   "metadata": {},
   "source": [
    "Uncomment if API key is not added yet"
   ]
  },
  {
   "cell_type": "code",
   "execution_count": 112,
   "metadata": {},
   "outputs": [],
   "source": [
    "# import getpass\n",
    "# import os\n",
    "\n",
    "# os.environ[\"OPENAI_API_KEY\"] = getpass.getpass()\n",
    "# os.environ[\"TAVILY_API_KEY\"] = getpass.getpass()"
   ]
  },
  {
   "cell_type": "markdown",
   "metadata": {},
   "source": [
    "# Building a Planner Worker Solver chatbot\n",
    "* Planner, uses LLM call\n",
    "* Worker, sometimes uses LLM call (only when tool name is LLM)\n",
    "* Solver, uses LLM call"
   ]
  },
  {
   "cell_type": "code",
   "execution_count": 114,
   "metadata": {},
   "outputs": [],
   "source": [
    "from langchain_openai import ChatOpenAI\n",
    "from langgraph.graph import END, StateGraph, START, MessagesState\n",
    "\n",
    "model = ChatOpenAI(model=\"gpt-4o\")\n",
    "\n",
    "graph_builder = StateGraph(MessagesState)"
   ]
  },
  {
   "cell_type": "markdown",
   "metadata": {},
   "source": [
    "## Build Planner"
   ]
  },
  {
   "cell_type": "code",
   "execution_count": 115,
   "metadata": {},
   "outputs": [
    {
     "name": "stdout",
     "output_type": "stream",
     "text": [
      "[PlanDetail(plan=\"Use Google to find out the winner of the 2023 U.S. Open (Tennis) men's singles.\", tool='Google', input=\"2023 U.S. Open Tennis men's singles winner\", step_name='step#1'), PlanDetail(plan='Use Google to find the hometown of the winner identified in step#1.', tool='Google', input=\"hometown of [winner's name]\", step_name='step#2')]\n"
     ]
    }
   ],
   "source": [
    "from langchain.prompts import ChatPromptTemplate\n",
    "from pydantic import BaseModel, Field\n",
    "from typing import List\n",
    "\n",
    "\n",
    "class PlanDetail(BaseModel):\n",
    "    plan: str = Field(description=\"This is the plan, a specific step or approach designed to solve a problem in a structured and sequential manner.\")\n",
    "    tool: str = Field(description=\"This is the tool, an external resource or function that an AI model (like an LLM) can use to retrieve information or perform specific tasks during a problem-solving process.\")\n",
    "    input: str = Field(description=\"This is the input, the information or data that is provided to the tool to perform its specific task.\")\n",
    "    step_name: str = Field(description=\"This is the step name, a unique identifier or label for each plan step.\")\n",
    "\n",
    "class PlannerResponse(BaseModel):\n",
    "    plan_details: List[PlanDetail] = Field(description=\"This is a list of PlanDetail objects, each containing a plan and its corresponding tool.\")\n",
    "\n",
    "\n",
    "llm_with_structured_output = model.with_structured_output(PlannerResponse)\n",
    "\n",
    "PLANNER_PROMPT = \"\"\"\n",
    "For the following task, make plans that can solve the problem step by step. For each plan, indicate\n",
    "which external tool together with tool input. Each plan should be a specific step or approach designed\n",
    "\n",
    "Tools can be one of the following:\n",
    "(1) Google: Worker that searches results from Google. Useful when you need to find short\n",
    "and succinct answers about a specific topic. The input should be a search query.\n",
    "(2) LLM: A pretrained LLM like yourself. Useful when you need to act with general\n",
    "world knowledge and common sense. Prioritize it when you are confident in solving the problem\n",
    "yourself. Input can be any instruction.\n",
    "\n",
    "For example,\n",
    "task: Analyze the economic impact of tourism on New York City over the past decade and compare it to that of Los Angeles.\n",
    "\n",
    "plan: Use Google to collect data on the economic impact of tourism on New York City over the past decade.\n",
    "tool: Google\n",
    "input: \"Economic impact of tourism on New York City over the past decade\"\n",
    "step_name: \"step#1\"\n",
    "\n",
    "plan: Use Google to collect data on the economic impact of tourism on Los Angeles over the past decade.\n",
    "tool: Google\n",
    "input: \"Economic impact of tourism on Los Angeles over the past decade\"\n",
    "step_name: \"step#2\"\n",
    "\n",
    "plan: Use LLM to compare the data from step#1 and step#2.\n",
    "tool: LLM\n",
    "input: \"Compare the economic impact of tourism on New York City and Los Angeles over the past decade using step#1 and step#2.\"\n",
    "step_name: \"step#3\"\n",
    "\n",
    "plan: Use LLM to analyze the factors contributing to any differences or similarities found.\n",
    "tool: LLM\n",
    "input: \"Analyze the factors that contribute to the differences or similarities in the economic impact of tourism between New York City and Los Angeles based on step#3.\"\n",
    "step_name: \"step#4\"\n",
    "\n",
    "plan: Use LLM to summarize the overall analysis.\n",
    "tool: LLM\n",
    "input: \"Summarize the key findings from step#3 and step#4 into a coherent analysis comparing the economic impact of tourism on New York City and Los Angeles over the past decade.\"\n",
    "step_name: \"step#5\"\n",
    "\"\"\"\n",
    "\n",
    "planner_template = ChatPromptTemplate.from_messages([\n",
    "    (\"system\", PLANNER_PROMPT),\n",
    "    (\"user\", \"{query}\")\n",
    "])\n",
    "\n",
    "planner_llm = planner_template | model\n",
    "\n",
    "user_input = \"What is the hometown of the 2023 U.S. Open (Tennis) men winner\"\n",
    "\n",
    "response_context = planner_llm.invoke({\"query\": user_input})\n",
    "response = llm_with_structured_output.invoke(response_context.content)\n",
    "plan_details = response.plan_details\n",
    "print(plan_details)"
   ]
  },
  {
   "cell_type": "markdown",
   "metadata": {},
   "source": [
    "## Build Worker"
   ]
  },
  {
   "cell_type": "code",
   "execution_count": 116,
   "metadata": {},
   "outputs": [
    {
     "name": "stdout",
     "output_type": "stream",
     "text": [
      "['2023 US Open - Men\\'s singles - Wikipedia\\nDjokovic became the oldest US Open men\\'s singles champion in the Open Era, at 36 years and 111 days, as well as the first man to capture the Australian Open, the French Open, and the US Open in a season since Mats Wilander in 1988.[1] Contents\\n2023 US Open – Men\\'s singles\\nNovak Djokovic defeated Daniil Medvedev in the final, 6–3, 7–6(7–5), 6–3 to win the men\\'s singles tennis title at the 2023 US Open. Alcaraz\\'s loss marked the 15th consecutive year where the reigning US Open champion failed to defend the title, with Federer being the last man to do so in 2008.\\n Other entry information[edit]\\nWild cards[edit]\\nProtected ranking[edit]\\nQualifiers[edit]\\nLucky losers[edit]\\nWithdrawals[edit]\\nReferences[edit]\\nExternal links[edit] By reaching a 47th men\\'s singles major semifinal, Djokovic surpassed Roger Federer\\'s all-time record,[2] and, by reaching the final, he equaled Federer\\'s record of reaching all major finals in a season three times.\\n\\nNovak Djokovic wins 24th Grand Slam singles title at 2023 US Open\\nWHAT HAPPENED: Novak Djokovic handled the weight of history to defeat Daniil Medvedev on Sunday in the 2023 US Open men\\'s singles final. With a 6-3, 7-6(5), 6-3 victory, the 36-year-old won his 24th Grand Slam singles title, tying Margaret Court\\'s record and bolstering his case to be considered the greatest tennis player of all time.\\nUS Open 2023 men\\'s final: Novak Djokovic faces Daniil Medvedev ... - BBC\\nTest your prediction skills with this maths challenge...\\nTracing the historical origins of British comedy tropes\\nIan Hislop\\'s on the hunt for the earliest examples of enduring British jokes\\nElsewhere in Sport\\nBazball at a crossroads after Rajkot loss - Agnew\\n\\'Hojlund shows Styles why he is Man Utd\\'s headline act\\'\\nGuardiola \\'not the man\\' to tell Haaland how to score\\nWhat has gone wrong for Celtic under Rodgers?\\n Premier League reaction & McNulty Q&A\\nAshworth on gardening leave amid Man Utd interest\\n\\'Hojlund shows Styles why he is Man Utd\\'s headline act\\'\\nElsewhere on the BBC\\n\\'It\\'s not possible or legal now, but we did it\\'\\nCillian Murphy shares the stories behind his musical choices\\nThe enigmatic beauty of a Bowie classic\\nMusicians and fans share what \\'Life on Mars?\\' means to them\\nCan you make sense of repeating patterns?\\n VideoWatch Wilson\\'s \\'remarkable\\' 147 in full\\nRank Stokes\\' 10 best moments from his 100 Tests\\n\\'I was embarrassed going to the toilet 30 times a day\\'\\nIsolated, disrespected & lacking support - why Xavi is quitting Barca\\n\\'Four months of lying in the dark\\' - concussion and the gender gap\\nTorvill, Dean and the death of romance\\nDo McLaren have the best driver line-up for 2024? Novak Djokovic could become the oldest player to win the US Open men\\'s singles title in the Open Era (since 1968)\\nUS Open 2023 men\\'s singles final - Novak Djokovic v Daniil Medvedev\\nVenue: Flushing Meadows, New York Date: 10 September Time: 21:00 BST\\nCoverage: Live text and radio commentary across the BBC Sport website, app, BBC Radio 5 Sports Extra\\nNovak Djokovic will seek revenge for his 2021 US Open final loss to Daniil Medvedev aware victory would secure a record-equalling 24th Grand Slam title.\\n \"\\nQuiz: Name the Grand Slam singles champions of 21st century\\nLive scores, results and order of play\\nAlerts: Get tennis news sent to your phone\\nDjokovic beat American Ben Shelton in straight sets in the semi-finals, ending home hopes in the men\\'s draw and mimicking the 20-year-old\\'s picking-up-a-phone celebration - which Shelton said represented him being \"dialled in\" - after clinching a 6-3 6-2 7-6 (7-4) win.\\n\\nUS Open 2023 men\\'s singles final: Novak Djokovic beats Daniil Medvedev ...\\nDjokovic overcomes fatigue to make more history\\nPunishing baseline rallies were on the menu from the start but Medvedev\\'s serve - which had occasionally let him down previously in the tournament - failed him straight away as he was broken to love in just the second game.\\n They went to a tiebreak and, at the end of the longest set of the tournament lasting well over an hour and a half, Medvedev netted a backhand to hand it to Djokovic 7-5.\\n Novak Djokovic beats Daniil Medvedev to equal Open era slam singles titles record\\nAfter matching Margaret Court\\'s tally of 24 Slam singles titles, Djokovic paid tribute to \"close friend\" Kobe Bryant and wore a T-shirt bearing a photo of the pair.\\n The third seed soon started to find his range from the back of the court with Djokovic employing serve-volley tactics to try and keep the rallies short.\\n Djokovic won 6-3, 7-6 (5), 6-3 to claim his fourth title at Flushing Meadows and avenge his defeat to the Russian in the 2021 final which denied him the coveted calendar Grand Slam.\\n\\nNovak Djokovic beats Daniil Medvedev to win US Open men\\'s final ... - CNN\\nWith the victory, the 36-year-old becomes oldest man to win the US Open singles title in the Open era and the first man to win three grand slam titles in a season for the fourth time – previously doing so in 2011, 2015 and 2021.\\n CNN values your feedback\\nNovak Djokovic beats Daniil Medvedev to win US Open men’s final, extending his record grand slam titles to 24\\nNovak Djokovic won the US Open on Sunday, defeating Daniil Medvedev 6-3 7-6 (7-5) 6-3 in the men’s final to extend his record grand slam singles titles to 24.\\n When he returned to the court, Djokovic honored the late NBA superstar Kobe Bryant by changing into a blue shirt bearing a photo of himself and the Lakers legend with the words “Mamba Forever” emblazoned on the front, and the number on the back. “We chatted a lot about the winner’s mentality when I was struggling with the injury and trying to make my comeback, work my way back to the top of the game,” Djokovic said of his relationship with Bryant.\\n In a rematch of the 2021 US Open final, the Serbian avenged his loss to No. 3 seed Medvedev at Arthur Ashe Stadium in New York to complete his triumphant return to the United States.\\n', 'Ben and Erin Napier Take \\'Home Town\\' on the Road In a New HGTV Series\\nThey\\'ve not only helped rescue and enhance dozens of homes in their hometown of Laurel, Mississippi, they\\'ve also played a pivotal role in helping revitalize the city\\'s downtown while preserving and celebrating the town\\'s architectural treasures, endemic charm and historic features.\\nWhat It\\'s Really Like To Be On Ben And Erin Napier\\'s \\'Home Town\\'\\nWhat It\\'s Like To Have Your House Renovated On \\'Hometown\\'. \"After you have all the contracts signed, and they know what your preferences are, they do the design. You take a leap of faith,\" Phillips explained. Later in the interview, Phillips elaborates on placing her confidence in Ben and Erin Napier: \"I had a high level of trust.\\nBen and Erin Napier Announce the Town Selected for New HGTV Series ...\\nGet ready for your closeup, Wetumpka, Alabama. Home Town\\'s Erin and Ben Napier just announced that they will be shooting a new renovation show in the quaint Southern city as part of a hugely ambitious project — to take over and make over an entire small town.\\nHGTV\\'s Home Town Takeover: Winning Town Revealed - People.com\\nHGTV Reveals the U.S. Town That Will Receive a Whole-City Makeover from Ben and Erin Napier\\nThe stars of Home Town will be taking their renovation talents to another Southern city in need\\nIn January, HGTV put out a call for submissions for small towns that deserved a life-changing overhaul courtesy of stars Ben and Erin Napier. RELATED VIDEO: HGTV\\'s Ben & Erin Napier Reveal the \\'Serious\\' Reason They Had to Pause a Home Renovation\\nOn Thursday night, HGTV will air a special titled Home Town: Small Town Salute in which viewers can watch the excitement unfold as Erin and Ben share the news with Wetumpka residents that their town was selected.\\n As the stars of HGTV’s Home Town, the Napiers have transformed their home base of Laurel, Mississippi, one house at a time over the years, and the design-savvy duo are excited to be taking their talents to another deserving community.\\n Home Town Takeover will see Erin, 34, and Ben, 36, restore hope to the residents with a town-wide revitalization project — one of HGTV’s most ambitious projects ever — renovating Wetumpka’s private homes, small businesses and a variety of public spaces.\\n According to HGTV, Wetumpka was chosen because their submissions “successfully showcased the community’s collective desire to champion revitalization, highlighted the work they had already done to improve the town and telegraphed a collective spirit of excitement and optimism.”\\n\\nHGTV Made a Major Announcement about Ben and Erin Napier\\'s Show ... - MSN\\nLuckily, ahead of the season 7 premiere, Ben and Erin will be back for a one-hour special holiday program called Home Town Holidays premiering December 17 on HGTV. In the special, the Napiers will ...']\n"
     ]
    }
   ],
   "source": [
    "import os\n",
    "from langchain_community.tools import TavilySearchResults\n",
    "from tavily import TavilyClient\n",
    "\n",
    "tavily_search_results_tool = TavilySearchResults(\n",
    "    max_results=5,\n",
    "    include_answer=True,\n",
    "    include_raw_content=True\n",
    ")\n",
    "tavily_client = TavilyClient(api_key=os.environ[\"TAVILY_API_KEY\"])\n",
    "WORKER_PROMPT = \"\"\"\n",
    "You are a helpful assistant that can perform tasks based on instructions provided by the user.\n",
    "Provide clear and concise responses to the user's queries. Do not ask for additional information.\n",
    "\"\"\"\n",
    "worker_template = ChatPromptTemplate.from_messages([\n",
    "    (\"system\", WORKER_PROMPT),\n",
    "    (\"user\", \"{query}\")\n",
    "])\n",
    "\n",
    "worker_llm = worker_template | model\n",
    "\n",
    "def worker_perform_plan(plan_detail: PlanDetail) -> str:\n",
    "    task = plan_detail.plan\n",
    "    tool = plan_detail.tool\n",
    "    input_query = plan_detail.input\n",
    "    step_name = plan_detail.step_name\n",
    "    result = \"\"\n",
    "\n",
    "    if tool == \"Google\":\n",
    "        # Perform Google search using Tavily\n",
    "        response = tavily_client.search(input_query)\n",
    "        raw_result = response[\"results\"]\n",
    "        # join result from title and content\n",
    "        result = \"\\n\".join([r[\"title\"] + \"\\n\" + r[\"content\"] for r in raw_result])\n",
    "    elif tool == \"LLM\":\n",
    "        # Perform LLM task\n",
    "        response = worker_llm.invoke({\"query\": input_query})\n",
    "        result = response.content\n",
    "    else:\n",
    "        raise ValueError(f\"Invalid tool specified: {tool}\")\n",
    "\n",
    "    return result\n",
    "\n",
    "evidences = []\n",
    "for plan_detail in plan_details:\n",
    "    evidences.append(worker_perform_plan(plan_detail))\n",
    "print(evidences)"
   ]
  },
  {
   "cell_type": "markdown",
   "metadata": {},
   "source": [
    "## Build Solver"
   ]
  },
  {
   "cell_type": "code",
   "execution_count": 117,
   "metadata": {},
   "outputs": [
    {
     "name": "stdout",
     "output_type": "stream",
     "text": [
      "Belgrade, Serbia\n"
     ]
    }
   ],
   "source": [
    "SOLVER_PROMPT = \"\"\"Using the step-by-step plan and the corresponding evidence provided, solve the following task. Be cautious, as the evidence may be lengthy and could include irrelevant information.\n",
    "\n",
    "Plans and Evidences:\n",
    "\n",
    "{plans_and_evidences}\n",
    "\n",
    "Now, using the provided evidence, solve the task below. Provide only the final answer.\n",
    "\"\"\"\n",
    "\n",
    "solver_template = ChatPromptTemplate.from_messages([\n",
    "    (\"system\", SOLVER_PROMPT),\n",
    "    (\"user\", \"{query}\")\n",
    "])\n",
    "\n",
    "solver_llm = solver_template | model\n",
    "\n",
    "plans_and_evidences_list = []\n",
    "for plan_detail, evidence in zip(plan_details, evidences):\n",
    "    plans_and_evidences_list.append(f\"Plan: {plan_detail.plan}\\nEvidence: {evidence}\")\n",
    "plans_and_evidences = \"\\n\\n\".join(plans_and_evidences_list)\n",
    "\n",
    "response = solver_llm.invoke({\"plans_and_evidences\": plans_and_evidences, \"query\": user_input})\n",
    "print(response.content)"
   ]
  }
 ],
 "metadata": {
  "kernelspec": {
   "display_name": "env",
   "language": "python",
   "name": "python3"
  },
  "language_info": {
   "codemirror_mode": {
    "name": "ipython",
    "version": 3
   },
   "file_extension": ".py",
   "mimetype": "text/x-python",
   "name": "python",
   "nbconvert_exporter": "python",
   "pygments_lexer": "ipython3",
   "version": "3.10.8"
  }
 },
 "nbformat": 4,
 "nbformat_minor": 2
}
