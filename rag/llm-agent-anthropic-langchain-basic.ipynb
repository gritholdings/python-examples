{
 "cells": [
  {
   "cell_type": "markdown",
   "metadata": {},
   "source": [
    "# LangChain Basics\n",
    "In this notebook, the script generates a response to the question `\"How can I improve my productivity?\"` with the topic of `\"time management\"`. Using chain of thought, the response is generated through a pipeline of two language models and their corresponding prompt templates.\n"
   ]
  },
  {
   "cell_type": "markdown",
   "metadata": {},
   "source": [
    "## Setting Up\n",
    "Uncomment to install the package"
   ]
  },
  {
   "cell_type": "code",
   "execution_count": 52,
   "metadata": {},
   "outputs": [],
   "source": [
    "# pip install -U langgraph langchain-anthropic"
   ]
  },
  {
   "cell_type": "markdown",
   "metadata": {},
   "source": [
    "Uncomment if API key is not added yet"
   ]
  },
  {
   "cell_type": "code",
   "execution_count": 53,
   "metadata": {},
   "outputs": [],
   "source": [
    "# import getpass\n",
    "# import os\n",
    "\n",
    "# os.environ[\"ANTHROPIC_API_KEY\"] = getpass.getpass()"
   ]
  },
  {
   "cell_type": "markdown",
   "metadata": {},
   "source": [
    "## Building a basic Chatbot"
   ]
  },
  {
   "cell_type": "code",
   "execution_count": 54,
   "metadata": {},
   "outputs": [],
   "source": [
    "from langchain_core.prompts import ChatPromptTemplate\n",
    "from langchain_anthropic import ChatAnthropic"
   ]
  },
  {
   "cell_type": "code",
   "execution_count": 55,
   "metadata": {},
   "outputs": [
    {
     "name": "stdout",
     "output_type": "stream",
     "text": [
      "Based on the steps provided, the most logical conclusion is:\n",
      "\n",
      "Improving productivity is a comprehensive process that requires self-awareness, planning, discipline, and continuous effort. By systematically addressing various aspects of your work habits, environment, and mindset, you can significantly enhance your efficiency and output over time. The key is to implement these strategies consistently and be willing to adapt and refine your approach as you learn what works best for you.\n"
     ]
    }
   ],
   "source": [
    "model = ChatAnthropic(model=\"claude-3-5-sonnet-20240620\")\n",
    "\n",
    "prompt_template_1 = ChatPromptTemplate.from_messages([\n",
    "    ('system', \"You are an expert in {topic}.\"),\n",
    "    ('user', \"What are the steps to solve the following problem? {question}\")\n",
    "])\n",
    "\n",
    "llm_1 = prompt_template_1 | model\n",
    "\n",
    "prompt_template_2 = ChatPromptTemplate.from_messages([\n",
    "    ('system', \"Provide a concise answer to the following question.\"),\n",
    "    ('user', \"For the steps given, {steps}, what is the most logical conclusion?\")\n",
    "])\n",
    "\n",
    "llm_2 = {\"steps\": llm_1} | prompt_template_2 | model\n",
    "\n",
    "response = llm_2.invoke({\"topic\": \"time management\", \"question\": \"How can I improve my productivity?\"})\n",
    "\n",
    "print(response.content)"
   ]
  }
 ],
 "metadata": {
  "kernelspec": {
   "display_name": "env",
   "language": "python",
   "name": "python3"
  },
  "language_info": {
   "codemirror_mode": {
    "name": "ipython",
    "version": 3
   },
   "file_extension": ".py",
   "mimetype": "text/x-python",
   "name": "python",
   "nbconvert_exporter": "python",
   "pygments_lexer": "ipython3",
   "version": "3.10.8"
  }
 },
 "nbformat": 4,
 "nbformat_minor": 2
}
