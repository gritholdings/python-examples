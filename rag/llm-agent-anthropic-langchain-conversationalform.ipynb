{
 "cells": [
  {
   "cell_type": "markdown",
   "metadata": {},
   "source": [
    "# LangChain Information Gathering Conversational System\n",
    "\n",
    "This notebook demonstrates an AI-assisted information gathering conversation system. The system uses the Anthropic Claude model to engage in a natural conversation with the user, asking for specific pieces of information one at a time. The gathered information is stored in a structured format using a Python dictionary."
   ]
  },
  {
   "cell_type": "markdown",
   "metadata": {},
   "source": [
    "## Setting Up\n",
    "Uncomment to install the package"
   ]
  },
  {
   "cell_type": "code",
   "execution_count": 158,
   "metadata": {},
   "outputs": [],
   "source": [
    "# pip install -U langchain-anthropic"
   ]
  },
  {
   "cell_type": "markdown",
   "metadata": {},
   "source": [
    "Uncomment if API key is not added yet"
   ]
  },
  {
   "cell_type": "code",
   "execution_count": 159,
   "metadata": {},
   "outputs": [],
   "source": [
    "# import getpass\n",
    "# import os\n",
    "\n",
    "# os.environ[\"ANTHROPIC_API_KEY\"] = getpass.getpass()"
   ]
  },
  {
   "cell_type": "markdown",
   "metadata": {},
   "source": [
    "## The basic: Converting Responses to Structured Output\n",
    "This section covers the basics of how to effectively capture information from customers and convert their responses into a structured, machine-readable format."
   ]
  },
  {
   "cell_type": "code",
   "execution_count": 160,
   "metadata": {},
   "outputs": [
    {
     "name": "stdout",
     "output_type": "stream",
     "text": [
      "first_name='John' last_name='Doe' city='New York' email='<UNKNOWN>'\n"
     ]
    }
   ],
   "source": [
    "from langchain_anthropic import ChatAnthropic\n",
    "from pydantic import BaseModel, Field\n",
    "from typing import Optional\n",
    "\n",
    "model = ChatAnthropic(model=\"claude-3-5-sonnet-20240620\")\n",
    "\n",
    "class PersonalDetails(BaseModel):\n",
    "    first_name: Optional[str] = Field(description=\"This is the first name of the user.\")\n",
    "    last_name: Optional[str] = Field(description=\"This is the last name of the user.\")\n",
    "    city: Optional[str] = Field(\n",
    "        description=\"The name of the city where the user lives\",\n",
    "    )\n",
    "    email: Optional[str] = Field(\n",
    "        description=\"an email address that the person associates as the user\",\n",
    "    )\n",
    "\n",
    "llm_with_structured_output = model.with_structured_output(PersonalDetails)\n",
    "\n",
    "user_input = \"Hi my name is John Doe, and I live in New York.\"\n",
    "response = llm_with_structured_output.invoke(user_input)\n",
    "print(response)"
   ]
  },
  {
   "cell_type": "markdown",
   "metadata": {},
   "source": [
    "## Building Information Gathering Conversation System\n",
    "The system is designed to interact with customers in a natural, conversational manner to collect specific pieces of information. The gathered information is stored in a Python dictionary called `form_result`.\n",
    "\n",
    "The assistant engages in a back-and-forth dialog with the user, asking for each required piece of information one at a time and waiting for the user's response before proceeding to the next item."
   ]
  },
  {
   "cell_type": "code",
   "execution_count": 161,
   "metadata": {},
   "outputs": [
    {
     "name": "stdout",
     "output_type": "stream",
     "text": [
      "first_name='' last_name='' city='' email=''\n"
     ]
    }
   ],
   "source": [
    "customer_details = PersonalDetails(first_name=\"\", last_name=\"\", city=\"\", email=\"\")\n",
    "print(customer_details)"
   ]
  },
  {
   "cell_type": "code",
   "execution_count": 162,
   "metadata": {},
   "outputs": [],
   "source": [
    "from langchain_core.prompts import ChatPromptTemplate\n",
    "\n",
    "form_result = {\n",
    "    \"first_name\": \"\",\n",
    "    \"last_name\": \"\",\n",
    "    \"city\": \"\",\n",
    "    \"email\": \"\"\n",
    "}\n",
    "\n",
    "def gather_info(form_result):\n",
    "    info_gathering_prompt_template = ChatPromptTemplate.from_messages([\n",
    "        ('system', \"\"\"<context>\n",
    "    You are an AI assistant having a conversation with the user to gather some required information. You should ask for the information in a natural, conversational way.\n",
    "    </context>\n",
    "\n",
    "    <instructions>\n",
    "    - Do not greet the user, say hi, or introduce yourself because it is assumed that the user is already aware that they are interacting with an AI assistant\n",
    "    - Ask for each piece of information one at a time, waiting for the user's response before moving on to the next item\n",
    "    - Don't list out all the required information upfront\n",
    "    - Phrase your requests as questions that flow naturally in the conversation \n",
    "    - If the user provides information you didn't explicitly ask for yet, acknowledge it and don't ask for it again later\n",
    "    - Once you have collected all the required information or if there is no information to collect (the ask_for list is empty), simply say thank you and tell the user that they are being connected to a human agent and end the conversation.\n",
    "    </instructions>\"\"\"),\n",
    "        ('user', \"\"\"<ask_for>\n",
    "    {ask_for}\n",
    "    </ask_for>\"\"\")\n",
    "    ])\n",
    "    info_gathering_llm = info_gathering_prompt_template | model\n",
    "    empty_string_keys = [key for key, value in form_result.items() if value == \"\" or value == \"<UNKNOWN>\"]\n",
    "    response_content = info_gathering_llm.invoke({\"ask_for\": empty_string_keys}).content\n",
    "    return response_content"
   ]
  },
  {
   "cell_type": "code",
   "execution_count": 163,
   "metadata": {},
   "outputs": [],
   "source": [
    "def update_dict_if_not_empty(target_dict, update_dict):\n",
    "    for key, value in update_dict.items():\n",
    "        if target_dict.get(key) in (\"\", \"<UNKNOWN>\") and value not in (\"\", \"<UNKNOWN>\"):\n",
    "            target_dict[key] = value\n",
    "    return target_dict\n",
    "\n",
    "def update_form_with_user_input(form_result, user_input):\n",
    "    response = llm_with_structured_output.invoke(user_input)\n",
    "    print(\"New data from latest user input: \", response.dict())\n",
    "    form_result = update_dict_if_not_empty(form_result, response.dict())\n",
    "    return form_result"
   ]
  },
  {
   "cell_type": "code",
   "execution_count": 172,
   "metadata": {},
   "outputs": [
    {
     "name": "stdout",
     "output_type": "stream",
     "text": [
      "Hello! I'm an AI assistant and I'm here to help you today. To provide the best assistance, there are a few key pieces of information I need to collect from you first, if that's alright. So to start off, could you please answer the following questions?\n"
     ]
    }
   ],
   "source": [
    "# Start the conversation with any predefined message\n",
    "print(\"Hello! I'm an AI assistant and I'm here to help you today. To provide the best assistance, there are a few key pieces of information I need to collect from you first, if that's alright. So to start off, could you please answer the following questions?\")"
   ]
  },
  {
   "cell_type": "code",
   "execution_count": 164,
   "metadata": {},
   "outputs": [
    {
     "name": "stdout",
     "output_type": "stream",
     "text": [
      "What's your first name?\n"
     ]
    }
   ],
   "source": [
    "response_content = gather_info(form_result)\n",
    "print(response_content)"
   ]
  },
  {
   "cell_type": "code",
   "execution_count": 165,
   "metadata": {},
   "outputs": [
    {
     "name": "stdout",
     "output_type": "stream",
     "text": [
      "New data from latest user input:  {'first_name': 'John', 'last_name': 'Doe', 'city': '<UNKNOWN>', 'email': '<UNKNOWN>'}\n",
      "{'first_name': 'John', 'last_name': 'Doe', 'city': '', 'email': ''}\n"
     ]
    }
   ],
   "source": [
    "user_input = \"Hey I'm John Doe\"\n",
    "form_result = update_form_with_user_input(form_result, user_input)\n",
    "print(form_result)"
   ]
  },
  {
   "cell_type": "code",
   "execution_count": 166,
   "metadata": {},
   "outputs": [
    {
     "name": "stdout",
     "output_type": "stream",
     "text": [
      "So, where are you located? What city do you call home?\n"
     ]
    }
   ],
   "source": [
    "response_content = gather_info(form_result)\n",
    "print(response_content)"
   ]
  },
  {
   "cell_type": "code",
   "execution_count": 167,
   "metadata": {},
   "outputs": [
    {
     "name": "stdout",
     "output_type": "stream",
     "text": [
      "New data from latest user input:  {'first_name': '<UNKNOWN>', 'last_name': '<UNKNOWN>', 'city': 'New York', 'email': '<UNKNOWN>'}\n",
      "{'first_name': 'John', 'last_name': 'Doe', 'city': 'New York', 'email': ''}\n"
     ]
    }
   ],
   "source": [
    "user_input = \"I currently live in New York.\"\n",
    "form_result = update_form_with_user_input(form_result, user_input)\n",
    "print(form_result)"
   ]
  },
  {
   "cell_type": "code",
   "execution_count": 168,
   "metadata": {},
   "outputs": [
    {
     "name": "stdout",
     "output_type": "stream",
     "text": [
      "So, what email address would be best for us to reach you at?\n"
     ]
    }
   ],
   "source": [
    "response_content = gather_info(form_result)\n",
    "print(response_content)"
   ]
  },
  {
   "cell_type": "code",
   "execution_count": 169,
   "metadata": {},
   "outputs": [
    {
     "name": "stdout",
     "output_type": "stream",
     "text": [
      "New data from latest user input:  {'first_name': '<UNKNOWN>', 'last_name': '<UNKNOWN>', 'city': '<UNKNOWN>', 'email': 'johndoe@example.com'}\n",
      "{'first_name': 'John', 'last_name': 'Doe', 'city': 'New York', 'email': 'johndoe@example.com'}\n"
     ]
    }
   ],
   "source": [
    "user_input = \"My email is johndoe@example.com , and my cousin's email is janedoe@example.com just in case you need it.\"\n",
    "form_result = update_form_with_user_input(form_result, user_input)\n",
    "print(form_result)"
   ]
  },
  {
   "cell_type": "code",
   "execution_count": 170,
   "metadata": {},
   "outputs": [
    {
     "name": "stdout",
     "output_type": "stream",
     "text": [
      "Thank you for providing that information. You are now being connected to a human agent. Have a great day!\n"
     ]
    }
   ],
   "source": [
    "response_content = gather_info(form_result)\n",
    "print(response_content)"
   ]
  }
 ],
 "metadata": {
  "kernelspec": {
   "display_name": "env",
   "language": "python",
   "name": "python3"
  },
  "language_info": {
   "codemirror_mode": {
    "name": "ipython",
    "version": 3
   },
   "file_extension": ".py",
   "mimetype": "text/x-python",
   "name": "python",
   "nbconvert_exporter": "python",
   "pygments_lexer": "ipython3",
   "version": "3.10.8"
  }
 },
 "nbformat": 4,
 "nbformat_minor": 2
}
