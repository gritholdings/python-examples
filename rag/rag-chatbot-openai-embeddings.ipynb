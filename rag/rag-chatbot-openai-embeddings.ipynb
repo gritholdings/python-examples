{
 "cells": [
  {
   "cell_type": "markdown",
   "metadata": {},
   "source": [
    "This is a simplified example of building a RAG system using OpenAI's LLM embeddings without relying on an external framework. You can extend and customize this code based on your specific requirements and use case."
   ]
  },
  {
   "cell_type": "code",
   "execution_count": 54,
   "metadata": {},
   "outputs": [],
   "source": [
    "from openai import OpenAI\n",
    "from sklearn.metrics.pairwise import cosine_similarity\n",
    "import numpy as np\n",
    "import os"
   ]
  },
  {
   "cell_type": "code",
   "execution_count": 55,
   "metadata": {},
   "outputs": [],
   "source": [
    "# Set up OpenAI API credentials\n",
    "client = OpenAI(api_key = os.environ['OPENAI_API_KEY'])"
   ]
  },
  {
   "cell_type": "code",
   "execution_count": 56,
   "metadata": {},
   "outputs": [],
   "source": [
    "# Define the knowledge base\n",
    "knowledge_base = [\n",
    "    \"In the year 2045, a young scientist named Lila Jacobson invented a revolutionary AI system called \\\"Neurolink\\\" that could directly interface with the human brain.\",\n",
    "    \"The planet Zephyria, located in the Andromeda galaxy, is home to a race of intelligent beings called the Zephyrians, who have mastered intergalactic teleportation.\",\n",
    "    \"In an alternate timeline, the ancient Egyptians discovered a mysterious crystal that granted them advanced technological abilities, allowing them to build the pyramids using anti-gravity technology.\",\n",
    "    \"The legendary city of Atlantis was not lost beneath the waves but instead was a floating city that could traverse the oceans using advanced hydrodynamic engines.\",\n",
    "    \"In the year 2120, humans discovered a way to upload their consciousness into robotic bodies, achieving a form of digital immortality.\",\n",
    "    \"The Illumirians, a secret society of magic wielders, have been guiding the course of human history from the shadows for millennia.\",\n",
    "    \"In a parallel universe, humans evolved to possess telepathic abilities, leading to the development of a global hive-mind consciousness.\",\n",
    "    \"The Crimson King, a powerful sorcerer, once ruled over the mystical land of Eldritch, where magic and technology were indistinguishable.\",\n",
    "    \"In the 31st century, humans have colonized the entire solar system and have begun to terraform planets in nearby star systems.\",\n",
    "    \"The Chrono Guardians, a group of time-travelers, work tirelessly to maintain the integrity of the timeline and prevent temporal paradoxes.\"\n",
    "]"
   ]
  },
  {
   "cell_type": "code",
   "execution_count": 57,
   "metadata": {},
   "outputs": [],
   "source": [
    "# Generate embeddings for the knowledge base\n",
    "def get_embeddings(texts):\n",
    "    response = client.embeddings.create(\n",
    "        input=texts,\n",
    "        model=\"text-embedding-3-small\"\n",
    "    )\n",
    "    return [r.embedding for r in response.data]\n",
    "\n",
    "kb_embeddings = get_embeddings(knowledge_base)"
   ]
  },
  {
   "cell_type": "code",
   "execution_count": 58,
   "metadata": {},
   "outputs": [],
   "source": [
    "# Function to retrieve relevant information from the knowledge base\n",
    "def retrieve_info(query, top_k=3):\n",
    "    query_embedding = get_embeddings([query])[0]\n",
    "    similarities = cosine_similarity([query_embedding], kb_embeddings)[0]\n",
    "    top_indices = np.argsort(similarities)[-top_k:][::-1]\n",
    "    return [knowledge_base[i] for i in top_indices]"
   ]
  },
  {
   "cell_type": "code",
   "execution_count": 59,
   "metadata": {},
   "outputs": [],
   "source": [
    "# Function to generate a response using OpenAI's language model\n",
    "def generate_response(prompt):\n",
    "    response = client.chat.completions.create(\n",
    "        model=\"gpt-3.5-turbo\",\n",
    "        messages=[\n",
    "            {\"role\": \"system\", \"content\": \"You are a helpful assistant.\"},\n",
    "            {\"role\": \"user\", \"content\": prompt}\n",
    "        ],\n",
    "        max_tokens=100,\n",
    "        n=1,\n",
    "        stop=None,\n",
    "        temperature=0.7,\n",
    "    )\n",
    "    return response.choices[0].message.content"
   ]
  },
  {
   "cell_type": "code",
   "execution_count": 60,
   "metadata": {},
   "outputs": [],
   "source": [
    "# Main function to handle user queries\n",
    "def handle_query(query):\n",
    "    relevant_info = retrieve_info(query)\n",
    "    prompt = f\"Relevant information:\\n{' '.join(relevant_info)}\\n\\nQuery: {query}\\n\\nResponse:\"\n",
    "    response = generate_response(prompt)\n",
    "    return response"
   ]
  },
  {
   "cell_type": "code",
   "execution_count": 69,
   "metadata": {},
   "outputs": [
    {
     "name": "stdout",
     "output_type": "stream",
     "text": [
      "Query: In what year did Lila Jacobson invent the \"Neurolink\" AI system?\n",
      "Response: Lila Jacobson invented the \"Neurolink\" AI system in the year 2045.\n",
      "\n",
      "Query: What is the name of the intelligent beings who live on the planet Zephyria?\n",
      "Response: The intelligent beings who live on the planet Zephyria are called the Zephyrians.\n",
      "\n",
      "Query: Who works to maintain the integrity of the timeline and prevent temporal paradoxes?\n",
      "Response: The Chrono Guardians are the group of time-travelers who work tirelessly to maintain the integrity of the timeline and prevent temporal paradoxes. Their role is crucial in ensuring that the past, present, and future remain stable and free from disruptions caused by time-travel activities.\n",
      "\n",
      "Query: Who ruled over the mystical land of Eldritch?\n",
      "Response: The Crimson King, a powerful sorcerer, ruled over the mystical land of Eldritch.\n",
      "\n",
      "Query: In what century have humans colonized the entire solar system?\n",
      "Response: Humans have colonized the entire solar system in the 31st century.\n",
      "\n"
     ]
    }
   ],
   "source": [
    "# Example usages\n",
    "queries = [\n",
    "    \"In what year did Lila Jacobson invent the \\\"Neurolink\\\" AI system?\",\n",
    "    \"What is the name of the intelligent beings who live on the planet Zephyria?\",\n",
    "    \"Who works to maintain the integrity of the timeline and prevent temporal paradoxes?\",\n",
    "    \"Who ruled over the mystical land of Eldritch?\",\n",
    "    \"In what century have humans colonized the entire solar system?\"\n",
    "]\n",
    "\n",
    "for query in queries:\n",
    "    response = handle_query(query)\n",
    "    print(f\"Query: {query}\")\n",
    "    print(f\"Response: {response}\\n\")"
   ]
  },
  {
   "cell_type": "code",
   "execution_count": null,
   "metadata": {},
   "outputs": [],
   "source": []
  }
 ],
 "metadata": {
  "kernelspec": {
   "display_name": "env",
   "language": "python",
   "name": "python3"
  },
  "language_info": {
   "codemirror_mode": {
    "name": "ipython",
    "version": 3
   },
   "file_extension": ".py",
   "mimetype": "text/x-python",
   "name": "python",
   "nbconvert_exporter": "python",
   "pygments_lexer": "ipython3",
   "version": "3.10.8"
  }
 },
 "nbformat": 4,
 "nbformat_minor": 2
}
