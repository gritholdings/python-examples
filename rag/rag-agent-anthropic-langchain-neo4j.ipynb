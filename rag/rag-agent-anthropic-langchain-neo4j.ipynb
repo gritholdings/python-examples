{
 "cells": [
  {
   "cell_type": "markdown",
   "metadata": {},
   "source": [
    "# Build Agent using LangChain and Neo4j Knowledge Graph\n",
    "This document provides an overview of integrating a Neo4j graph database with LangChain, a framework for developing applications powered by language models.\n",
    "\n",
    "## Prerequisites\n",
    "Before you begin, ensure you have the following:\n",
    "* A Neo4j database instance (e.g., Neo4j Aura). We use https://neo4j.io/, hosted in cloud.\n",
    "* Access to Anthropic Claude. We use https://claude.ai, hosted in cloud.\n",
    "\n",
    "![neo4j-graph](./example_data/neo4j-graph.png)"
   ]
  },
  {
   "cell_type": "markdown",
   "metadata": {},
   "source": [
    "# Setting Up\n",
    "Uncomment to install the package"
   ]
  },
  {
   "cell_type": "code",
   "execution_count": 24,
   "metadata": {
    "vscode": {
     "languageId": "shellscript"
    }
   },
   "outputs": [],
   "source": [
    "# pip install -U neo4j langchain-anthropic"
   ]
  },
  {
   "cell_type": "markdown",
   "metadata": {},
   "source": [
    "Uncomment if API key is not added yet"
   ]
  },
  {
   "cell_type": "code",
   "execution_count": 25,
   "metadata": {},
   "outputs": [],
   "source": [
    "# import getpass\n",
    "# import os\n",
    "\n",
    "# os.environ[\"ANTHROPIC_API_KEY\"] = getpass.getpass()\n",
    "# password = getpass.getpass()"
   ]
  },
  {
   "cell_type": "markdown",
   "metadata": {},
   "source": [
    "## Connecting to Neo4j\n",
    "To connect to your Neo4j database, create an instance of the Neo4jGraph class from the langchain_community.graphs module:"
   ]
  },
  {
   "cell_type": "code",
   "execution_count": 26,
   "metadata": {},
   "outputs": [],
   "source": [
    "from langchain_community.graphs import Neo4jGraph\n",
    "\n",
    "graph = Neo4jGraph(url=\"neo4j+s://a7db75cc.databases.neo4j.io\", username=\"neo4j\", password=password)"
   ]
  },
  {
   "cell_type": "markdown",
   "metadata": {},
   "source": [
    "# Populating the Graph\n",
    "\n",
    "You can populate the graph by executing Cypher queries using the query method of the Neo4jGraph instance. This query creates customer nodes and establishes relationships with product and category nodes."
   ]
  },
  {
   "cell_type": "code",
   "execution_count": 30,
   "metadata": {},
   "outputs": [
    {
     "name": "stdout",
     "output_type": "stream",
     "text": [
      "[]\n"
     ]
    }
   ],
   "source": [
    "response = graph.query(\n",
    "    \"\"\"\n",
    "// Merge customers into the graph\n",
    "MERGE (c1:Customer {name: \"John Doe\", email: \"johndoe@email.com\"})\n",
    "MERGE (c2:Customer {name: \"Jane Smith\", email: \"janesmith@email.com\"})\n",
    "\n",
    "// Create a list of products and categories\n",
    "WITH c1, c2, \n",
    "     [[\"Macbook Pro\", \"Electronics\"], [\"The Alchemist\", \"Books\"], [\"Nike Air Force\", \"Clothing\"], [\"Xbox Series X\", \"Electronics\"]] AS products\n",
    "     \n",
    "// Create product nodes and category relationships\n",
    "UNWIND products AS product_category\n",
    "MERGE (p:Product {name: product_category[0]})\n",
    "MERGE (cat:Category {name: product_category[1]})\n",
    "MERGE (p)-[:BELONGS_TO]->(cat)\n",
    "\n",
    "// Create purchase relationships for John Doe\n",
    "MERGE (c1)-[:PURCHASED {date: date(\"2024-08-10\"), quantity: 2}]->(p)\n",
    "WITH c1, c2, p\n",
    "\n",
    "// Create purchase relationships for Jane Smith with different dates and quantities\n",
    "MERGE (c2)-[:PURCHASED {date: date(\"2024-09-01\"), quantity: 1}]->(p)\n",
    "\"\"\"\n",
    ")\n",
    "print(response)"
   ]
  },
  {
   "cell_type": "markdown",
   "metadata": {},
   "source": [
    "## Refreshing the Schema\n",
    "After populating the graph, refresh the schema to ensure LangChain has access to the updated graph structure:"
   ]
  },
  {
   "cell_type": "code",
   "execution_count": 31,
   "metadata": {},
   "outputs": [
    {
     "name": "stdout",
     "output_type": "stream",
     "text": [
      "Node properties:\n",
      "Customer {name: STRING, email: STRING}\n",
      "Product {name: STRING}\n",
      "Category {name: STRING}\n",
      "Relationship properties:\n",
      "PURCHASED {date: DATE, quantity: INTEGER}\n",
      "The relationships:\n",
      "(:Customer)-[:PURCHASED]->(:Product)\n",
      "(:Product)-[:BELONGS_TO]->(:Category)\n"
     ]
    }
   ],
   "source": [
    "graph.refresh_schema()\n",
    "print(graph.schema)"
   ]
  },
  {
   "cell_type": "markdown",
   "metadata": {},
   "source": [
    "## Creating a chain using GraphCypherQAChain\n",
    "To query the graph using natural language, create an instance of the `GraphCypherQAChain` class. The chain generates a Cypher query based on the question, executes it against the graph, and returns the result. You can now query the graph using natural language."
   ]
  },
  {
   "cell_type": "code",
   "execution_count": 32,
   "metadata": {},
   "outputs": [
    {
     "name": "stdout",
     "output_type": "stream",
     "text": [
      "\n",
      "\n",
      "\u001b[1m> Entering new GraphCypherQAChain chain...\u001b[0m\n",
      "Generated Cypher:\n",
      "\u001b[32;1m\u001b[1;3mMATCH (c:Customer {name: 'John Doe'})-[p:PURCHASED]->(prod:Product)\n",
      "RETURN prod.name, p.date, p.quantity\u001b[0m\n",
      "Full Context:\n",
      "\u001b[32;1m\u001b[1;3m[{'prod.name': 'Macbook Pro', 'p.date': neo4j.time.Date(2024, 8, 10), 'p.quantity': 2}, {'prod.name': 'The Alchemist', 'p.date': neo4j.time.Date(2024, 8, 10), 'p.quantity': 2}, {'prod.name': 'Nike Air Force', 'p.date': neo4j.time.Date(2024, 8, 10), 'p.quantity': 2}, {'prod.name': 'Xbox Series X', 'p.date': neo4j.time.Date(2024, 8, 10), 'p.quantity': 2}]\u001b[0m\n",
      "\n",
      "\u001b[1m> Finished chain.\u001b[0m\n",
      "{'query': 'What products did John Doe buy?', 'result': 'John Doe purchased several items on August 10, 2024. The products he bought include 2 Macbook Pro laptops, 2 copies of the book \"The Alchemist\", 2 pairs of Nike Air Force shoes, and 2 Xbox Series X gaming consoles.'}\n"
     ]
    }
   ],
   "source": [
    "from langchain.chains import GraphCypherQAChain\n",
    "from langchain_anthropic import ChatAnthropic\n",
    "\n",
    "chain = GraphCypherQAChain.from_llm(\n",
    "    ChatAnthropic(model_name=\"claude-3-5-sonnet-20240620\"), graph=graph, verbose=True\n",
    ")\n",
    "\n",
    "response = chain.invoke({\"query\": \"What products did John Doe buy?\"})\n",
    "print(response)"
   ]
  },
  {
   "cell_type": "code",
   "execution_count": 38,
   "metadata": {},
   "outputs": [
    {
     "name": "stdout",
     "output_type": "stream",
     "text": [
      "\n",
      "\n",
      "\u001b[1m> Entering new GraphCypherQAChain chain...\u001b[0m\n",
      "Generated Cypher:\n",
      "\u001b[32;1m\u001b[1;3mMATCH (c:Customer {name: 'Jane Smith'})-[:PURCHASED]->(:Product)-[:BELONGS_TO]->(cat:Category)\n",
      "RETURN DISTINCT cat.name\u001b[0m\n",
      "Full Context:\n",
      "\u001b[32;1m\u001b[1;3m[{'cat.name': 'Electronics'}, {'cat.name': 'Books'}, {'cat.name': 'Clothing'}]\u001b[0m\n",
      "\n",
      "\u001b[1m> Finished chain.\u001b[0m\n",
      "{'query': \"Which categories do Jane Smith's purchases belong to?\", 'result': \"Jane Smith's purchases belong to Electronics, Books, and Clothing categories.\"}\n"
     ]
    }
   ],
   "source": [
    "response = chain.invoke({\"query\": \"Which categories do Jane Smith's purchases belong to?\"})\n",
    "print(response)"
   ]
  }
 ],
 "metadata": {
  "kernelspec": {
   "display_name": "env",
   "language": "python",
   "name": "python3"
  },
  "language_info": {
   "codemirror_mode": {
    "name": "ipython",
    "version": 3
   },
   "file_extension": ".py",
   "mimetype": "text/x-python",
   "name": "python",
   "nbconvert_exporter": "python",
   "pygments_lexer": "ipython3",
   "version": "3.10.8"
  }
 },
 "nbformat": 4,
 "nbformat_minor": 2
}
