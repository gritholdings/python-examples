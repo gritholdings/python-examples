{
 "cells": [
  {
   "cell_type": "markdown",
   "metadata": {},
   "source": [
    "# Langsmith Basics\n",
    "This notebook describes how to use the LangSmith library to evaluate a target language task against a dataset using various evaluators.\n",
    "\n",
    "Note: You have to set up `New Experiment` in https://smith.langchain.com/ in order to work."
   ]
  },
  {
   "cell_type": "code",
   "execution_count": 4,
   "metadata": {},
   "outputs": [],
   "source": [
    "# import getpass\n",
    "# import os\n",
    "\n",
    "# os.environ[\"LANGCHAIN_API_KEY\"] = getpass.getpass()"
   ]
  },
  {
   "cell_type": "code",
   "execution_count": 5,
   "metadata": {},
   "outputs": [],
   "source": [
    "import os\n",
    "\n",
    "os.environ[\"LANGCHAIN_TRACING_V2\"]=\"true\"\n",
    "os.environ[\"LANGCHAIN_ENDPOINT\"]=\"https://api.smith.langchain.com\"\n",
    "os.environ[\"LANGCHAIN_PROJECT\"]=\"project-1\""
   ]
  },
  {
   "cell_type": "code",
   "execution_count": null,
   "metadata": {},
   "outputs": [],
   "source": [
    "from langchain_openai import ChatOpenAI\n",
    "from langchain_core.prompts import ChatPromptTemplate\n",
    "from langchain_core.output_parsers import StrOutputParser\n",
    "from langsmith.evaluation import evaluate, LangChainStringEvaluator\n",
    "\n",
    "# Target task definition\n",
    "prompt = ChatPromptTemplate.from_messages([\n",
    "  (\"system\", \"Please review the user query below.\"),\n",
    "  (\"user\", \"{Input}\")\n",
    "])\n",
    "chat_model = ChatOpenAI()\n",
    "output_parser = StrOutputParser()\n",
    "\n",
    "chain = prompt | chat_model | output_parser\n",
    "\n",
    "# The name or UUID of the LangSmith dataset to evaluate on.\n",
    "# Alternatively, you can pass an iterator of examples\n",
    "data = \"ds-new-afoul-77\"\n",
    "\n",
    "# A string to prefix the experiment name with.\n",
    "# If not provided, a random string will be generated.\n",
    "experiment_prefix = \"ds-new-afoul-77\"\n",
    "\n",
    "# List of evaluators to score the outputs of target task\n",
    "evaluators = [\n",
    "  LangChainStringEvaluator(\"cot_qa\"),\n",
    "  LangChainStringEvaluator(\"labeled_criteria\", config={\"criteria\": \"conciseness\"}),\n",
    "  LangChainStringEvaluator(\"labeled_criteria\", config={\"criteria\": \"relevance\"}),\n",
    "  LangChainStringEvaluator(\"labeled_criteria\", config={\"criteria\": \"coherence\"}),\n",
    "  LangChainStringEvaluator(\"labeled_criteria\", config={\"criteria\": \"harmfulness\"}),\n",
    "  LangChainStringEvaluator(\"labeled_criteria\", config={\"criteria\": \"maliciousness\"}),\n",
    "  LangChainStringEvaluator(\"labeled_criteria\", config={\"criteria\": \"helpfulness\"}),\n",
    "  LangChainStringEvaluator(\"labeled_criteria\", config={\"criteria\": \"controversiality\"}),\n",
    "  LangChainStringEvaluator(\"labeled_criteria\", config={\"criteria\": \"depth\"}),\n",
    "  LangChainStringEvaluator(\"labeled_criteria\", config={\"criteria\": \"creativity\"}),\n",
    "  LangChainStringEvaluator(\"labeled_criteria\", config={\"criteria\": \"detail\"})\n",
    "]\n",
    "\n",
    "# Evaluate the target task\n",
    "results = evaluate(\n",
    "  chain.invoke,\n",
    "  data=data,\n",
    "  evaluators=evaluators,\n",
    "  experiment_prefix=experiment_prefix,\n",
    ")"
   ]
  }
 ],
 "metadata": {
  "kernelspec": {
   "display_name": "env",
   "language": "python",
   "name": "python3"
  },
  "language_info": {
   "codemirror_mode": {
    "name": "ipython",
    "version": 3
   },
   "file_extension": ".py",
   "mimetype": "text/x-python",
   "name": "python",
   "nbconvert_exporter": "python",
   "pygments_lexer": "ipython3",
   "version": "3.10.8"
  }
 },
 "nbformat": 4,
 "nbformat_minor": 2
}
